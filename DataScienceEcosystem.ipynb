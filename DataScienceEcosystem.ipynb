{
 "cells": [
  {
   "cell_type": "markdown",
   "id": "e1d85281-21da-4b75-9204-f909ba7f3f0f",
   "metadata": {},
   "source": [
    "# Data Science Tools and Ecosystem"
   ]
  },
  {
   "cell_type": "markdown",
   "id": "94bdc6b5-c339-4de2-91e8-b99e5f6127f1",
   "metadata": {},
   "source": [
    "In this notebook, Data Science Tools and Ecosystem are summarized."
   ]
  },
  {
   "cell_type": "markdown",
   "id": "bbdc929f-88ea-4ea4-a567-71269d0abee7",
   "metadata": {},
   "source": [
    "**Objectives:**\n",
    "- List popular languages for Data Science  \n",
    "- Identify commonly used libraries in Data Science  \n",
    "- Describe open-source development tools for Data Science "
   ]
  },
  {
   "cell_type": "markdown",
   "id": "b57b0148-0d81-48bd-899a-9bd5e73e3621",
   "metadata": {},
   "source": [
    "Some of the popular languages that Data Scientists use are:\n",
    "1. R language\n",
    "2. python\n",
    "3. julia\n",
    "4. SQL\n",
    "   "
   ]
  },
  {
   "cell_type": "markdown",
   "id": "7492f4b1-e343-40d9-be07-c2994f2547ca",
   "metadata": {},
   "source": [
    "Some of the commonly used libraries used by Data Scientists include:\n",
    "1. sickit-learn\n",
    "2. numpy\n",
    "3. pandas\n",
    "4. matplitlib\n",
    "5. pytorch\n",
    "6. ggplot2\n"
   ]
  },
  {
   "cell_type": "markdown",
   "id": "69e776da-428f-4113-9212-5ceab4fc71b0",
   "metadata": {},
   "source": [
    "|Data Science Tools|\n",
    "|------------------|\n",
    "| Jupyter Notebook |\n",
    "| RStudio          |\n",
    "| VS code          |"
   ]
  },
  {
   "cell_type": "markdown",
   "id": "d910fbde-f09e-437e-a791-546369730dd9",
   "metadata": {},
   "source": [
    "### Below are a few examples of evaluating arithmetic expressions in Python"
   ]
  },
  {
   "cell_type": "markdown",
   "id": "57aef6fc-9e20-4b8a-8cff-bbfb5c5a882d",
   "metadata": {},
   "source": [
    "x = 10 \n",
    "--\n",
    "y = 20 \n",
    "--\n",
    "z = x + y \n",
    "--\n",
    "v = x(z + y)\n",
    "--\n",
    "print(x,y,z,v)\n",
    "--\n",
    "print(2+3) \n",
    "--\n",
    "print(10/2)\n",
    "--\n"
   ]
  },
  {
   "cell_type": "code",
   "execution_count": 2,
   "id": "ae7c36b4-ff15-4092-8274-a2cdfd194ee3",
   "metadata": {},
   "outputs": [
    {
     "data": {
      "text/plain": [
       "17"
      ]
     },
     "execution_count": 2,
     "metadata": {},
     "output_type": "execute_result"
    }
   ],
   "source": [
    "# This is a simple arithmetic expression to multiply then add integers\n",
    "(3 * 4) + 5"
   ]
  },
  {
   "cell_type": "code",
   "execution_count": 3,
   "id": "87bed7e7-ad3d-4a14-aa54-0381c5babfa9",
   "metadata": {},
   "outputs": [
    {
     "name": "stdout",
     "output_type": "stream",
     "text": [
      "3.3333333333333335\n"
     ]
    }
   ],
   "source": [
    "#This will convert 200 minutes to hours by diving by 60\n",
    "minutes = 200 \n",
    "hours = minutes/60 \n",
    "print(hours)"
   ]
  },
  {
   "cell_type": "markdown",
   "id": "ce57fb5f-a0cc-4c57-9b41-8dfbf70606b5",
   "metadata": {},
   "source": [
    "## Author \n",
    "Mohammed Mandourah"
   ]
  },
  {
   "cell_type": "code",
   "execution_count": null,
   "id": "53d35748-0046-4d1d-9932-e3bcf69c9cd4",
   "metadata": {},
   "outputs": [],
   "source": []
  }
 ],
 "metadata": {
  "kernelspec": {
   "display_name": "Python 3 (ipykernel)",
   "language": "python",
   "name": "python3"
  },
  "language_info": {
   "codemirror_mode": {
    "name": "ipython",
    "version": 3
   },
   "file_extension": ".py",
   "mimetype": "text/x-python",
   "name": "python",
   "nbconvert_exporter": "python",
   "pygments_lexer": "ipython3",
   "version": "3.13.5"
  }
 },
 "nbformat": 4,
 "nbformat_minor": 5
}
